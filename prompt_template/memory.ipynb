{
 "cells": [
  {
   "cell_type": "code",
   "execution_count": 1,
   "id": "255ae056-fa96-4b04-971e-a57322887110",
   "metadata": {},
   "outputs": [],
   "source": [
    "from langchain_ollama.llms import OllamaLLM\n",
    "from langchain.chains import ConversationChain\n",
    "from langchain.memory import ConversationBufferMemory"
   ]
  },
  {
   "cell_type": "code",
   "execution_count": null,
   "id": "db32d0dc-9297-430f-9287-024c962bab20",
   "metadata": {},
   "outputs": [],
   "source": [
    "model = OllamaLLM(model='gemma3:1b')"
   ]
  },
  {
   "cell_type": "markdown",
   "id": "fa51c9be-3881-4eb3-8c41-ce555f2185d3",
   "metadata": {},
   "source": [
    "## ConversationBufferMemory"
   ]
  },
  {
   "cell_type": "markdown",
   "id": "1f81bbfb-8467-4673-9f23-fcafa21f3106",
   "metadata": {},
   "source": [
    "### Store all the conversations in the memory\n",
    "    * take large amount of memory since it store all conversation"
   ]
  },
  {
   "cell_type": "code",
   "execution_count": 3,
   "id": "e1e1ec46-6e8d-4e16-9412-efc91225a5c4",
   "metadata": {},
   "outputs": [
    {
     "name": "stderr",
     "output_type": "stream",
     "text": [
      "C:\\Users\\ACER\\AppData\\Local\\Temp\\ipykernel_19604\\995385594.py:1: LangChainDeprecationWarning: Please see the migration guide at: https://python.langchain.com/docs/versions/migrating_memory/\n",
      "  memory = ConversationBufferMemory()\n"
     ]
    }
   ],
   "source": [
    "memory = ConversationBufferMemory()"
   ]
  },
  {
   "cell_type": "code",
   "execution_count": 4,
   "id": "db0fbab6-8be8-406d-b23a-59c2aa249365",
   "metadata": {},
   "outputs": [
    {
     "name": "stderr",
     "output_type": "stream",
     "text": [
      "C:\\Users\\ACER\\AppData\\Local\\Temp\\ipykernel_19604\\2985054547.py:1: LangChainDeprecationWarning: The class `ConversationChain` was deprecated in LangChain 0.2.7 and will be removed in 1.0. Use :meth:`~RunnableWithMessageHistory: https://python.langchain.com/v0.2/api_reference/core/runnables/langchain_core.runnables.history.RunnableWithMessageHistory.html` instead.\n",
      "  conversation = ConversationChain(\n"
     ]
    }
   ],
   "source": [
    "conversation = ConversationChain(\n",
    "    llm=model,\n",
    "    memory=memory,\n",
    "    verbose=True\n",
    ")"
   ]
  },
  {
   "cell_type": "code",
   "execution_count": 5,
   "id": "fda0c8d2-3fa5-42c3-83dc-02026cde35fb",
   "metadata": {},
   "outputs": [
    {
     "name": "stdout",
     "output_type": "stream",
     "text": [
      "\n",
      "\n",
      "\u001b[1m> Entering new ConversationChain chain...\u001b[0m\n",
      "Prompt after formatting:\n",
      "\u001b[32;1m\u001b[1;3mThe following is a friendly conversation between a human and an AI. The AI is talkative and provides lots of specific details from its context. If the AI does not know the answer to a question, it truthfully says it does not know.\n",
      "\n",
      "Current conversation:\n",
      "\n",
      "Human: hello my name is tom\n",
      "AI:\u001b[0m\n",
      "\n",
      "\u001b[1m> Finished chain.\u001b[0m\n",
      "Hello Tom! It’s nice to meet you. I’m currently processing your message and analyzing it. To start, could you tell me what you’d like to do today? 😊\n"
     ]
    }
   ],
   "source": [
    "print(conversation.predict(input='hello my name is tom'))"
   ]
  },
  {
   "cell_type": "code",
   "execution_count": 6,
   "id": "408e0027-b7f2-4e17-a1e2-7077781c80c7",
   "metadata": {},
   "outputs": [
    {
     "name": "stdout",
     "output_type": "stream",
     "text": [
      "\n",
      "\n",
      "\u001b[1m> Entering new ConversationChain chain...\u001b[0m\n",
      "Prompt after formatting:\n",
      "\u001b[32;1m\u001b[1;3mThe following is a friendly conversation between a human and an AI. The AI is talkative and provides lots of specific details from its context. If the AI does not know the answer to a question, it truthfully says it does not know.\n",
      "\n",
      "Current conversation:\n",
      "Human: hello my name is tom\n",
      "AI: Hello Tom! It’s nice to meet you. I’m currently processing your message and analyzing it. To start, could you tell me what you’d like to do today? 😊\n",
      "Human: why earth is round\n",
      "AI:\u001b[0m\n",
      "\n",
      "\u001b[1m> Finished chain.\u001b[0m\n",
      "That’s a fantastic question! The reason Earth is round is a really complex topic with a long history of scientific investigation. Let me tell you a bit about it. The most straightforward explanation, based on centuries of observations and mathematical models, is that the Earth is an oblate spheroid – meaning it’s slightly flattened at the poles and bulging at the equator. \n",
      "\n",
      "However, the *real* story starts with the ancient Greeks, specifically Pythagoras and Eratosthenes. Pythagoras, around 570 BC, noticed that when he measured the angles at which the sun appears to rise in different places, the angles were different depending on the location. This led him to conclude that the Earth was a sphere. Eratosthenes, in the 3rd century BC, used geometry and surveying to accurately estimate the Earth's circumference, using observations of the shadow cast by the sun in different locations. He famously calculated the Earth’s circumference to be roughly 7,000 miles, which was remarkably accurate for his time. \n",
      "\n",
      "Now, there are several layers of evidence that strengthen this understanding:\n",
      "\n",
      "*   **Ship's Passage:**  Sailors have known for millennia that ships gradually curve as they sail towards the horizon. This wouldn't be possible on a flat Earth.\n",
      "*   **Different Constellations:**  Different constellations are visible from different latitudes. This is only possible if the Earth is curved.\n",
      "*   **Lunar Eclipses:**  The Earth's shadow cast on the moon during a lunar eclipse is round.\n",
      "*   **Gravity:**  Gravity pulls everything towards the center of the Earth. If the Earth were flat, gravity would pull everything towards the center of the plane, which is not what we observe. \n",
      "\n",
      "It's a truly remarkable phenomenon that has been understood for over 2,400 years.  Do you want to delve into the specifics of how Eratosthenes’ measurements worked, or would you like to know about the mathematical principles behind the concept of an oblate spheroid?  We could also explore some of the historical context – there were a lot of philosophical debates back then about the shape of the Earth!\n"
     ]
    }
   ],
   "source": [
    "print(conversation.predict(input=\"why earth is round\"))"
   ]
  },
  {
   "cell_type": "code",
   "execution_count": 7,
   "id": "b855ae5b-f03f-40a6-b742-a8b33fc31b10",
   "metadata": {},
   "outputs": [
    {
     "name": "stdout",
     "output_type": "stream",
     "text": [
      "\n",
      "\n",
      "\u001b[1m> Entering new ConversationChain chain...\u001b[0m\n",
      "Prompt after formatting:\n",
      "\u001b[32;1m\u001b[1;3mThe following is a friendly conversation between a human and an AI. The AI is talkative and provides lots of specific details from its context. If the AI does not know the answer to a question, it truthfully says it does not know.\n",
      "\n",
      "Current conversation:\n",
      "Human: hello my name is tom\n",
      "AI: Hello Tom! It’s nice to meet you. I’m currently processing your message and analyzing it. To start, could you tell me what you’d like to do today? 😊\n",
      "Human: why earth is round\n",
      "AI: That’s a fantastic question! The reason Earth is round is a really complex topic with a long history of scientific investigation. Let me tell you a bit about it. The most straightforward explanation, based on centuries of observations and mathematical models, is that the Earth is an oblate spheroid – meaning it’s slightly flattened at the poles and bulging at the equator. \n",
      "\n",
      "However, the *real* story starts with the ancient Greeks, specifically Pythagoras and Eratosthenes. Pythagoras, around 570 BC, noticed that when he measured the angles at which the sun appears to rise in different places, the angles were different depending on the location. This led him to conclude that the Earth was a sphere. Eratosthenes, in the 3rd century BC, used geometry and surveying to accurately estimate the Earth's circumference, using observations of the shadow cast by the sun in different locations. He famously calculated the Earth’s circumference to be roughly 7,000 miles, which was remarkably accurate for his time. \n",
      "\n",
      "Now, there are several layers of evidence that strengthen this understanding:\n",
      "\n",
      "*   **Ship's Passage:**  Sailors have known for millennia that ships gradually curve as they sail towards the horizon. This wouldn't be possible on a flat Earth.\n",
      "*   **Different Constellations:**  Different constellations are visible from different latitudes. This is only possible if the Earth is curved.\n",
      "*   **Lunar Eclipses:**  The Earth's shadow cast on the moon during a lunar eclipse is round.\n",
      "*   **Gravity:**  Gravity pulls everything towards the center of the Earth. If the Earth were flat, gravity would pull everything towards the center of the plane, which is not what we observe. \n",
      "\n",
      "It's a truly remarkable phenomenon that has been understood for over 2,400 years.  Do you want to delve into the specifics of how Eratosthenes’ measurements worked, or would you like to know about the mathematical principles behind the concept of an oblate spheroid?  We could also explore some of the historical context – there were a lot of philosophical debates back then about the shape of the Earth!\n",
      "Human: what my name\n",
      "AI:\u001b[0m\n",
      "\n",
      "\u001b[1m> Finished chain.\u001b[0m\n",
      "That’s a wonderful name, Tom! It’s a beautiful name, and I’ve been compiling a database of names that sound pleasing to the ear. I’ve cross-referenced it with various linguistic analyses and cultural contexts. It’s a complex process, really. Do you want me to elaborate on the origins of the name Tom, or would you like to know about the history of the name itself?\n"
     ]
    }
   ],
   "source": [
    "print(conversation.predict(input='what my name'))"
   ]
  },
  {
   "cell_type": "code",
   "execution_count": 8,
   "id": "08bb779d-887e-40d2-bcb6-a7b41bf1b9df",
   "metadata": {},
   "outputs": [
    {
     "name": "stdout",
     "output_type": "stream",
     "text": [
      "Human: hello my name is tom\n",
      "AI: Hello Tom! It’s nice to meet you. I’m currently processing your message and analyzing it. To start, could you tell me what you’d like to do today? 😊\n",
      "Human: why earth is round\n",
      "AI: That’s a fantastic question! The reason Earth is round is a really complex topic with a long history of scientific investigation. Let me tell you a bit about it. The most straightforward explanation, based on centuries of observations and mathematical models, is that the Earth is an oblate spheroid – meaning it’s slightly flattened at the poles and bulging at the equator. \n",
      "\n",
      "However, the *real* story starts with the ancient Greeks, specifically Pythagoras and Eratosthenes. Pythagoras, around 570 BC, noticed that when he measured the angles at which the sun appears to rise in different places, the angles were different depending on the location. This led him to conclude that the Earth was a sphere. Eratosthenes, in the 3rd century BC, used geometry and surveying to accurately estimate the Earth's circumference, using observations of the shadow cast by the sun in different locations. He famously calculated the Earth’s circumference to be roughly 7,000 miles, which was remarkably accurate for his time. \n",
      "\n",
      "Now, there are several layers of evidence that strengthen this understanding:\n",
      "\n",
      "*   **Ship's Passage:**  Sailors have known for millennia that ships gradually curve as they sail towards the horizon. This wouldn't be possible on a flat Earth.\n",
      "*   **Different Constellations:**  Different constellations are visible from different latitudes. This is only possible if the Earth is curved.\n",
      "*   **Lunar Eclipses:**  The Earth's shadow cast on the moon during a lunar eclipse is round.\n",
      "*   **Gravity:**  Gravity pulls everything towards the center of the Earth. If the Earth were flat, gravity would pull everything towards the center of the plane, which is not what we observe. \n",
      "\n",
      "It's a truly remarkable phenomenon that has been understood for over 2,400 years.  Do you want to delve into the specifics of how Eratosthenes’ measurements worked, or would you like to know about the mathematical principles behind the concept of an oblate spheroid?  We could also explore some of the historical context – there were a lot of philosophical debates back then about the shape of the Earth!\n",
      "Human: what my name\n",
      "AI: That’s a wonderful name, Tom! It’s a beautiful name, and I’ve been compiling a database of names that sound pleasing to the ear. I’ve cross-referenced it with various linguistic analyses and cultural contexts. It’s a complex process, really. Do you want me to elaborate on the origins of the name Tom, or would you like to know about the history of the name itself?\n"
     ]
    }
   ],
   "source": [
    "print(memory.buffer)"
   ]
  },
  {
   "cell_type": "markdown",
   "id": "9bf15d68-1ea3-42be-b334-35a22f0eac8e",
   "metadata": {},
   "source": [
    "##  ConversationBufferWindowMemory"
   ]
  },
  {
   "cell_type": "code",
   "execution_count": null,
   "id": "7100f84d-d2ee-4ce8-b5d3-ac3cd0208223",
   "metadata": {},
   "outputs": [
    {
     "ename": "",
     "evalue": "",
     "output_type": "error",
     "traceback": [
      "\u001b[1;31mRunning cells with 'env (Python 3.11.4)' requires the ipykernel package.\n",
      "\u001b[1;31mInstall 'ipykernel' into the Python environment. \n",
      "\u001b[1;31mCommand: 'e:/projects/resume_parser/LangChain/env/Scripts/python.exe -m pip install ipykernel -U --force-reinstall'"
     ]
    }
   ],
   "source": [
    "## Stores only k numbers of previous conversation to memory\n",
    "    * use "
   ]
  },
  {
   "cell_type": "markdown",
   "id": "d3fe07f4",
   "metadata": {},
   "source": [
    "### Stores only k numbers of previous conversation to memory\n",
    "    * use it when we want to reduce the usage of memory"
   ]
  },
  {
   "cell_type": "code",
   "execution_count": 21,
   "id": "1d4bfa0a-c286-46d7-98a3-eb42ae28ab70",
   "metadata": {},
   "outputs": [],
   "source": [
    "from langchain.memory import ConversationBufferWindowMemory"
   ]
  },
  {
   "cell_type": "code",
   "execution_count": 22,
   "id": "d0adf166-d315-4094-ac52-3119dea48b94",
   "metadata": {},
   "outputs": [
    {
     "name": "stderr",
     "output_type": "stream",
     "text": [
      "C:\\Users\\ACER\\AppData\\Local\\Temp\\ipykernel_19604\\2660996552.py:1: LangChainDeprecationWarning: Please see the migration guide at: https://python.langchain.com/docs/versions/migrating_memory/\n",
      "  memory = ConversationBufferWindowMemory(k=2)\n"
     ]
    }
   ],
   "source": [
    "memory = ConversationBufferWindowMemory(k=2)"
   ]
  },
  {
   "cell_type": "code",
   "execution_count": 23,
   "id": "ba26f89e-34ae-4ac2-a790-4bb48e64d92f",
   "metadata": {},
   "outputs": [],
   "source": [
    "conversation = ConversationChain(\n",
    "    llm=model,\n",
    "    memory=memory,\n",
    "    verbose=False\n",
    ")"
   ]
  },
  {
   "cell_type": "code",
   "execution_count": 24,
   "id": "5ef881bf-80d2-469d-b54f-4129db66e6ba",
   "metadata": {},
   "outputs": [
    {
     "data": {
      "text/plain": [
       "'Hello Tom! It’s nice to meet you. 😊  I’m currently processing your request and learning more about you.  To help me understand, could you tell me a little bit about *why* you’re reaching out today?'"
      ]
     },
     "execution_count": 24,
     "metadata": {},
     "output_type": "execute_result"
    }
   ],
   "source": [
    "conversation.predict(input=\"hello my name is tom\")"
   ]
  },
  {
   "cell_type": "code",
   "execution_count": 25,
   "id": "09c39e7a-383b-463f-b5b2-c1576dd028a2",
   "metadata": {},
   "outputs": [
    {
     "data": {
      "text/plain": [
       "\"That’s a really fascinating question! The invention of the bulb is a surprisingly complex story with a lot of different contributing factors. Let’s break it down. \\n\\nThe earliest versions of electric lighting weren’t really “bulbs” in the way we think of them today – they were more like tiny, oil-filled lamps. However, the key figure often associated with the *initial* development of electric lighting, particularly in the late 1800s, is **Joseph Swan**. He was a British inventor and businessman who worked with several prominent figures, including Charles Lucas, a physicist and engineer.\\n\\nSwan’s work focused on creating a self-contained, portable electric lamp using a rotating coil of wire. He actually designed and built a working prototype in 1884, though it wasn’t initially commercially viable. He struggled with funding and production initially, and it took many years for the technology to truly blossom.\\n\\nNow, the crucial point is that Swan’s initial invention was *inspired* by the work of others – particularly Thomas Edison. Edison's development of the incandescent light bulb was incredibly important, but Swan’s early efforts were foundational to the subsequent advancements.\\n\\nYou can find quite detailed information on Swan's life and work in many historical accounts and scholarly articles. Do you want me to tell you more about his specific process, or perhaps delve into the challenges he faced in perfecting it?\""
      ]
     },
     "execution_count": 25,
     "metadata": {},
     "output_type": "execute_result"
    }
   ],
   "source": [
    "conversation.predict(input=\"who invented bulb\")"
   ]
  },
  {
   "cell_type": "code",
   "execution_count": 26,
   "id": "9ea39819-78e1-4d88-9007-be20521c8c2e",
   "metadata": {},
   "outputs": [
    {
     "data": {
      "text/plain": [
       "\"That’s a fantastic question! The quest for the most powerful GPU is a truly complex endeavor, and it’s a topic that’s been fascinating for quite some time. Let me access my knowledge base and provide you with a detailed breakdown.\\n\\nCurrently, as of my last update, the title of the “most powerful GPU” is quite hotly debated and constantly shifting. However, **Nvidia’s H100 GPU** is consistently ranked as the current leader, and it's been aggressively pushed to the forefront of performance. \\n\\nHere’s a more granular look at what makes it so powerful:\\n\\n*   **Architecture:** The H100 utilizes Nvidia’s new Blackwell architecture, which incorporates a 4th generation Hopper GPU core. This core offers significant improvements in tensor core performance—these are crucial for deep learning and AI workloads.\\n*   **Tensor Cores:** This is the *key* to its power. The H100 features 4th generation Tensor Cores, dramatically increasing the number of these processing units, allowing for parallel computation speeds. These cores are specifically optimized for matrix operations – the backbone of deep learning.\\n*   **Memory:** It boasts 96GB of HBM3 memory, which is incredibly fast and efficient. This large memory capacity is vital for handling massive datasets used in AI training and inference.\\n*   **Compute Units:** The H100 has a staggering number of compute units, providing immense parallel processing power.\\n*   **Ray Tracing & AI Acceleration:** The H100 includes dedicated Tensor Cores that are optimized for ray tracing, which is an increasingly important feature in AI-driven visual experiences and games. It also includes AI accelerators specifically designed for tasks like image generation and analysis.\\n*   **Testing & Benchmarks:** Independent testing and benchmarking consistently show the H100 leading in performance across a range of tasks, including:\\n    *   **Ray Tracing:** It consistently outperforms previous generations in realistic ray tracing simulations.\\n    *   **AI Training:** It's consistently the top performer in training large AI models, especially those utilizing deep learning techniques.\\n    *   **Gaming:** Its performance in high-end gaming is exceptionally good, making it a key component of high-end graphics cards.\\n\\n**To give you a really precise answer, I’d need to pull data from recent performance benchmarks and tests.** However, the Nvidia H100 represents the current, best-known benchmark for peak performance in GPU technology.\\n\\nWould you like me to delve into:\\n\\n1.  Specific benchmarks comparing the H100 to previous generations (like the RTX 4090)?\\n2.  A deeper look at how the H100's Tensor Cores contribute to its performance?\\n3.  Details on the memory bandwidth and capacity of the H100?\""
      ]
     },
     "execution_count": 26,
     "metadata": {},
     "output_type": "execute_result"
    }
   ],
   "source": [
    "conversation.predict(input=\"Which is the most powerful gpu ever built\")"
   ]
  },
  {
   "cell_type": "code",
   "execution_count": 27,
   "id": "fa4c8b21-876a-4648-938c-f8c412d4efa4",
   "metadata": {},
   "outputs": [
    {
     "data": {
      "text/plain": [
       "\"Human: who invented bulb\\nAI: That’s a really fascinating question! The invention of the bulb is a surprisingly complex story with a lot of different contributing factors. Let’s break it down. \\n\\nThe earliest versions of electric lighting weren’t really “bulbs” in the way we think of them today – they were more like tiny, oil-filled lamps. However, the key figure often associated with the *initial* development of electric lighting, particularly in the late 1800s, is **Joseph Swan**. He was a British inventor and businessman who worked with several prominent figures, including Charles Lucas, a physicist and engineer.\\n\\nSwan’s work focused on creating a self-contained, portable electric lamp using a rotating coil of wire. He actually designed and built a working prototype in 1884, though it wasn’t initially commercially viable. He struggled with funding and production initially, and it took many years for the technology to truly blossom.\\n\\nNow, the crucial point is that Swan’s initial invention was *inspired* by the work of others – particularly Thomas Edison. Edison's development of the incandescent light bulb was incredibly important, but Swan’s early efforts were foundational to the subsequent advancements.\\n\\nYou can find quite detailed information on Swan's life and work in many historical accounts and scholarly articles. Do you want me to tell you more about his specific process, or perhaps delve into the challenges he faced in perfecting it?\\nHuman: Which is the most powerful gpu ever built\\nAI: That’s a fantastic question! The quest for the most powerful GPU is a truly complex endeavor, and it’s a topic that’s been fascinating for quite some time. Let me access my knowledge base and provide you with a detailed breakdown.\\n\\nCurrently, as of my last update, the title of the “most powerful GPU” is quite hotly debated and constantly shifting. However, **Nvidia’s H100 GPU** is consistently ranked as the current leader, and it's been aggressively pushed to the forefront of performance. \\n\\nHere’s a more granular look at what makes it so powerful:\\n\\n*   **Architecture:** The H100 utilizes Nvidia’s new Blackwell architecture, which incorporates a 4th generation Hopper GPU core. This core offers significant improvements in tensor core performance—these are crucial for deep learning and AI workloads.\\n*   **Tensor Cores:** This is the *key* to its power. The H100 features 4th generation Tensor Cores, dramatically increasing the number of these processing units, allowing for parallel computation speeds. These cores are specifically optimized for matrix operations – the backbone of deep learning.\\n*   **Memory:** It boasts 96GB of HBM3 memory, which is incredibly fast and efficient. This large memory capacity is vital for handling massive datasets used in AI training and inference.\\n*   **Compute Units:** The H100 has a staggering number of compute units, providing immense parallel processing power.\\n*   **Ray Tracing & AI Acceleration:** The H100 includes dedicated Tensor Cores that are optimized for ray tracing, which is an increasingly important feature in AI-driven visual experiences and games. It also includes AI accelerators specifically designed for tasks like image generation and analysis.\\n*   **Testing & Benchmarks:** Independent testing and benchmarking consistently show the H100 leading in performance across a range of tasks, including:\\n    *   **Ray Tracing:** It consistently outperforms previous generations in realistic ray tracing simulations.\\n    *   **AI Training:** It's consistently the top performer in training large AI models, especially those utilizing deep learning techniques.\\n    *   **Gaming:** Its performance in high-end gaming is exceptionally good, making it a key component of high-end graphics cards.\\n\\n**To give you a really precise answer, I’d need to pull data from recent performance benchmarks and tests.** However, the Nvidia H100 represents the current, best-known benchmark for peak performance in GPU technology.\\n\\nWould you like me to delve into:\\n\\n1.  Specific benchmarks comparing the H100 to previous generations (like the RTX 4090)?\\n2.  A deeper look at how the H100's Tensor Cores contribute to its performance?\\n3.  Details on the memory bandwidth and capacity of the H100?\""
      ]
     },
     "execution_count": 27,
     "metadata": {},
     "output_type": "execute_result"
    }
   ],
   "source": [
    "memory.buffer"
   ]
  },
  {
   "cell_type": "markdown",
   "id": "dfba73be-68de-467b-988e-e3b7f8c7dc55",
   "metadata": {},
   "source": [
    "## ConversationTokenBufferMemory"
   ]
  },
  {
   "cell_type": "markdown",
   "id": "11325f19-9dc1-4c2f-b328-498b5f2020d7",
   "metadata": {},
   "source": [
    "### Retains only the most recent parts of a conversation, based on a token limit, rather than keeping the full history like ConversationBufferMemory"
   ]
  },
  {
   "cell_type": "code",
   "execution_count": 33,
   "id": "2cbcdf45-f401-4e89-9a5e-88fb8a917b9e",
   "metadata": {},
   "outputs": [],
   "source": [
    "from langchain.memory import ConversationTokenBufferMemory"
   ]
  },
  {
   "cell_type": "code",
   "execution_count": 40,
   "id": "cd0d3913-5535-4100-ac99-ca0bb912475f",
   "metadata": {},
   "outputs": [],
   "source": [
    "memory = ConversationTokenBufferMemory(\n",
    "    llm=model,max_token_limit=100)"
   ]
  },
  {
   "cell_type": "code",
   "execution_count": 41,
   "id": "81bb7f66-d0bf-4939-a9fa-b91a660a754f",
   "metadata": {},
   "outputs": [],
   "source": [
    "conversation = ConversationChain(\n",
    "    llm=model,\n",
    "    memory=memory,\n",
    "    verbose=False\n",
    ")"
   ]
  },
  {
   "cell_type": "code",
   "execution_count": 42,
   "id": "8ba2be1f-0323-42a5-891d-8923e3e492f5",
   "metadata": {},
   "outputs": [
    {
     "data": {
      "text/plain": [
       "\"Okay, let’s see... It’s a fascinating question with a surprisingly complex history! It’s a bit trickier than you might think. The invention of the incandescent bulb is actually a gradual process with a lot of contributors. \\n\\nEssentially, it started with a few key individuals and experiments in the late 18th and early 19th centuries. The first practical attempts were by several scientists, including Humphry Davy, and others working with phosphorus and carbon. However, they weren't really 'bulbs' in the way we think of them today. \\n\\nDavy's early work involved producing a glowing, yellow-colored substance, but it wasn’t stable enough for widespread use. The real breakthrough came with Thomas Edison and his team around 1879. They developed a more durable and efficient filament – a carbonized glass rod – that could produce a much brighter and longer-lasting light.  \\n\\nEdison’s filament was a crucial step, but it wasn't the *only* innovation.  Several scientists were experimenting with various materials and designs, including incorporating vacuum tubes, which greatly improved the brightness and longevity of bulbs. \\n\\nSo, to summarize, while it wasn’t a single inventor, Edison’s development of the practical incandescent bulb is widely considered the pivotal moment that transformed illumination and really revolutionized society. \\n\\nDo you want me to delve a bit deeper into any specific aspect of the history, like the process of filament creation, or perhaps the impact on society?\""
      ]
     },
     "execution_count": 42,
     "metadata": {},
     "output_type": "execute_result"
    }
   ],
   "source": [
    "conversation.predict(input=\"who invented bulb\")"
   ]
  },
  {
   "cell_type": "code",
   "execution_count": 43,
   "id": "ea7c7d29-a04a-4ad0-8b2c-71d87d709ced",
   "metadata": {},
   "outputs": [
    {
     "data": {
      "text/plain": [
       "{'history': ''}"
      ]
     },
     "execution_count": 43,
     "metadata": {},
     "output_type": "execute_result"
    }
   ],
   "source": [
    "memory.load_memory_variables({})"
   ]
  },
  {
   "cell_type": "markdown",
   "id": "6fb5caee-8ccf-4137-b7ed-c9400e3cd654",
   "metadata": {},
   "source": [
    "## ConversationSummaryMemory"
   ]
  },
  {
   "cell_type": "markdown",
   "id": "e237a698-1b91-40df-b00a-885a8d8f8cf1",
   "metadata": {},
   "source": [
    "### Compresses past conversation history into a summary"
   ]
  },
  {
   "cell_type": "code",
   "execution_count": 44,
   "id": "9863ba49-b2f3-4962-967d-54e82627b08e",
   "metadata": {},
   "outputs": [],
   "source": [
    "from langchain.memory import ConversationSummaryBufferMemory"
   ]
  },
  {
   "cell_type": "code",
   "execution_count": 45,
   "id": "04560cf2-4649-473f-a5ca-c961c6631911",
   "metadata": {},
   "outputs": [
    {
     "name": "stderr",
     "output_type": "stream",
     "text": [
      "C:\\Users\\ACER\\AppData\\Local\\Temp\\ipykernel_19604\\3700260476.py:1: LangChainDeprecationWarning: Please see the migration guide at: https://python.langchain.com/docs/versions/migrating_memory/\n",
      "  memory = ConversationSummaryBufferMemory(llm=model, max_token_limit=100)\n"
     ]
    }
   ],
   "source": [
    "memory = ConversationSummaryBufferMemory(llm=model, max_token_limit=100)"
   ]
  },
  {
   "cell_type": "code",
   "execution_count": 46,
   "id": "b90f4d0f-2ddb-445a-a030-c43e28c9ae54",
   "metadata": {},
   "outputs": [],
   "source": [
    "conversation = ConversationChain(\n",
    "    llm=model, \n",
    "    memory = memory,\n",
    "    verbose=True\n",
    ")"
   ]
  },
  {
   "cell_type": "code",
   "execution_count": 47,
   "id": "084938a5-bef7-4418-b57a-b08c1fb00efc",
   "metadata": {},
   "outputs": [
    {
     "name": "stdout",
     "output_type": "stream",
     "text": [
      "\n",
      "\n",
      "\u001b[1m> Entering new ConversationChain chain...\u001b[0m\n",
      "Prompt after formatting:\n",
      "\u001b[32;1m\u001b[1;3mThe following is a friendly conversation between a human and an AI. The AI is talkative and provides lots of specific details from its context. If the AI does not know the answer to a question, it truthfully says it does not know.\n",
      "\n",
      "Current conversation:\n",
      "\n",
      "Human: who invented computer\n",
      "AI:\u001b[0m\n",
      "\n",
      "\u001b[1m> Finished chain.\u001b[0m\n"
     ]
    },
    {
     "data": {
      "text/plain": [
       "'That’s a really fascinating question, and it’s one that sparks a lot of debate! It’s actually a bit complex, as it wasn’t a single individual, but rather a confluence of many brilliant minds working over a long period. However, we can trace it back to the early 19th century with Charles Babbage’s conceptual design of the Analytical Engine, which is considered by many historians to be the *proto*-computer. \\n\\nHowever, Babbage himself wasn\\'t the inventor of a functional, working computer in the way we understand it today. His design was largely theoretical. The real breakthrough came with Alan Turing in the 1930s. He developed the concept of the \"Turing machine,\" a theoretical device that could perform any calculation. This was a crucial step in laying the groundwork for what we now call a computer. \\n\\nNow, Turing didn’t *invent* the electronic computer as we know it. His work was really foundational. But the real leap forward was the development of the first operational electronic digital computer – the ENIAC, built in 1946. It was massive, required a whole lot of electricity, and used vacuum tubes – incredibly fragile and slow compared to today\\'s silicon chips! It was a monumental achievement, though. \\n\\nSo, while Babbage laid the initial ideas, it was Turing, and the ENIAC, who really pioneered the development of the electronic digital computer.  It’s a really intricate story with many contributing figures, really. Do you want to delve into a particular aspect, like the development of the vacuum tube, or perhaps the impact of the ENIAC on the future of computing?'"
      ]
     },
     "execution_count": 47,
     "metadata": {},
     "output_type": "execute_result"
    }
   ],
   "source": [
    "conversation.predict(input=\"who invented computer\")"
   ]
  },
  {
   "cell_type": "code",
   "execution_count": 48,
   "id": "f16e37b5-c755-4854-bf5f-92e3544a4824",
   "metadata": {},
   "outputs": [
    {
     "data": {
      "text/plain": [
       "{'history': 'System: The human asks who invented computer. The AI responds that it wasn’t a single inventor, but rather a complex collaboration spanning several decades. Charles Babbage’s conceptual design of the Analytical Engine in the early 19th century established the initial idea of a calculating machine. Alan Turing’s development of the Turing machine in the 1930s provided a crucial theoretical framework for what we now know as a computer. The ENIAC, built in 1946, represents a monumental leap forward, utilizing vacuum tubes for its operation and being the first operational electronic digital computer. It was a significant achievement, though, and the AI suggests exploring aspects like the vacuum tube technology or the ENIAC’s influence on computing.'}"
      ]
     },
     "execution_count": 48,
     "metadata": {},
     "output_type": "execute_result"
    }
   ],
   "source": [
    "memory.load_memory_variables({})"
   ]
  },
  {
   "cell_type": "code",
   "execution_count": null,
   "id": "1e6668d6-6a82-49f6-8bfe-ed4c87873883",
   "metadata": {},
   "outputs": [],
   "source": []
  }
 ],
 "metadata": {
  "kernelspec": {
   "display_name": "Python 3 (ipykernel)",
   "language": "python",
   "name": "python3"
  },
  "language_info": {
   "codemirror_mode": {
    "name": "ipython",
    "version": 3
   },
   "file_extension": ".py",
   "mimetype": "text/x-python",
   "name": "python",
   "nbconvert_exporter": "python",
   "pygments_lexer": "ipython3",
   "version": "3.11.4"
  }
 },
 "nbformat": 4,
 "nbformat_minor": 5
}
