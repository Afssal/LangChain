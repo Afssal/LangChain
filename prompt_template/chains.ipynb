{
 "cells": [
  {
   "cell_type": "code",
   "execution_count": 7,
   "id": "04bf97f3-9f58-46ec-b901-4d26cd22b638",
   "metadata": {},
   "outputs": [],
   "source": [
    "from langchain_ollama.llms import OllamaLLM\n",
    "from langchain.chains import LLMChain\n",
    "from langchain.prompts import ChatPromptTemplate\n",
    "import markdown\n"
   ]
  },
  {
   "cell_type": "code",
   "execution_count": 2,
   "id": "d9e9d48d-e7de-4dd2-86cb-727548ce8c40",
   "metadata": {},
   "outputs": [],
   "source": [
    "model = OllamaLLM(model='gemma3:1b')"
   ]
  },
  {
   "cell_type": "code",
   "execution_count": 17,
   "id": "50335df6-fb5c-471e-8585-06bf44a4fdd1",
   "metadata": {},
   "outputs": [],
   "source": [
    "prompt = ChatPromptTemplate.from_template(\n",
    "    \"who invented {instrument}?\"\n",
    ")"
   ]
  },
  {
   "cell_type": "code",
   "execution_count": 18,
   "id": "58d2117f-489a-4477-b5c8-6aae0cada8c1",
   "metadata": {},
   "outputs": [],
   "source": [
    "chain = LLMChain(llm=model,prompt=prompt)"
   ]
  },
  {
   "cell_type": "code",
   "execution_count": 19,
   "id": "9fe292bb-9d98-430a-9dc5-4e019e997f7c",
   "metadata": {},
   "outputs": [],
   "source": [
    "instr = \"guitar\""
   ]
  },
  {
   "cell_type": "code",
   "execution_count": 20,
   "id": "9829d48d-2aca-419d-a3a4-346d308ed4de",
   "metadata": {},
   "outputs": [],
   "source": [
    "result = chain.run(instr)"
   ]
  },
  {
   "cell_type": "code",
   "execution_count": 21,
   "id": "03cd97e3-dfdc-429d-b0c6-f48397e73302",
   "metadata": {},
   "outputs": [
    {
     "data": {
      "text/plain": [
       "'That\\'s a really fascinating question, and the truth is, it\\'s surprisingly complex! There\\'s no single \"inventor\" of the guitar, but rather a gradual evolution of instruments that led to what we recognize today. Here\\'s a breakdown of the key contributors and periods:\\n\\n**1. Ancient Roots - The Lute & Oud (Pre-15th Century)**\\n\\n* **Ancient Mesopotamia:** The earliest forms of stringed instruments likely originated in Mesopotamia (modern-day Iraq) around 3500-3000 BC. These were precursors to the lute and oud, and they were used for musical purposes.  They were likely played by nomadic groups.\\n\\n**2. The Medieval Period - The Lute & Oud Take Shape**\\n\\n* **The Iberian Lute (Spain & Portugal):** Around the 10th-12th centuries, the lute, which was a lute-like instrument with a large, curved soundboard, began to spread from Spain and Portugal to Northern Europe. It was initially used for court music.\\n* **The Oud (Middle East):** The Oud, a pear-shaped stringed instrument from the Middle East, also developed around this time and was adopted by musicians in Southern Europe. \\n\\n**3. The Rise of the Guitar (15th - 18th Centuries)**\\n\\n* **The \"Spanish Guitar\" (Spain):**  The true genesis of the guitar we know today emerged in Spain during the 15th century. Specifically, the **\"guitar española\"** developed, a smaller, lighter instrument with a distinct sound. It was originally made of spruce wood, and it’s considered the ancestor of the modern guitar.\\n* **The Importance of the \"Renaissance Guitar\":**  This small, complex guitar became hugely popular among the Spanish aristocracy. It was known as the \"Renaissance Guitar\" because of its intricate decoration – it was a symbol of status and wealth.\\n* **The Evolution of Construction:** Over time, the shape and construction of the guitar began to shift.  The body became more rounded, and the strings were changed to a thicker gauge.\\n\\n**4. 18th and 19th Centuries - Guitar Styles Develop**\\n\\n* **The \"Classical Guitar\" (Spain):**  By the 18th century, the guitar started to evolve and develop its own distinct style. This is where the modern guitar we recognize began to take shape.  It became lighter and more versatile.\\n* **The \"Spanish Guitar\" and its Influence:** The Spanish guitar became immensely popular worldwide, shaping the sound and style of the guitar we hear today. \\n\\n**So, who *really* invented it?**\\n\\nIt’s not a single inventor. Here\\'s a more nuanced view:\\n\\n* **No one single person:** The evolution of the guitar was a collaborative process.\\n* **Early Influences:** Several people contributed to shaping the instrument.  Think of figures like:\\n    * **Francisco Romero:** A highly influential Spanish guitarist who played a key role in shaping the sound and style.\\n    * **Various Spanish Luthiers:** Numerous luthiers throughout Spain and Portugal contributed to the refinement of the instrument\\'s construction and sound.\\n\\n\\n**In short, the guitar is the product of centuries of innovation, development, and cultural exchange. It’s a testament to human creativity and a beautiful instrument that has captivated musicians and audiences for over 500 years.**\\n\\n---\\n\\nDo you want to know more about any specific aspect of the guitar\\'s history? For example, would you like to know:\\n\\n*   The difference between Spanish and Brazilian guitars?\\n*   How did the guitar become popular in the Americas?'"
      ]
     },
     "execution_count": 21,
     "metadata": {},
     "output_type": "execute_result"
    }
   ],
   "source": [
    "result"
   ]
  },
  {
   "cell_type": "markdown",
   "id": "2d1a63cf-f701-4f5c-bf2e-f4c66c8c39a2",
   "metadata": {},
   "source": [
    "## SimpleSequentialChain"
   ]
  },
  {
   "cell_type": "code",
   "execution_count": 22,
   "id": "e2efc920-aeba-4b41-bc9e-8dedd90f1482",
   "metadata": {},
   "outputs": [],
   "source": [
    "from langchain.chains import SimpleSequentialChain"
   ]
  },
  {
   "cell_type": "code",
   "execution_count": 27,
   "id": "4e801097-a408-41fc-a166-edefcfe96b31",
   "metadata": {},
   "outputs": [],
   "source": [
    "first_prompt = ChatPromptTemplate.from_template(\n",
    "    \"Who invented {item}?\"\n",
    ")\n",
    "\n",
    "chain_one = LLMChain(llm=model,prompt=first_prompt)"
   ]
  },
  {
   "cell_type": "code",
   "execution_count": 28,
   "id": "26fefefe-6497-4369-9b19-e3495ba9d91a",
   "metadata": {},
   "outputs": [],
   "source": [
    "second_prompt = ChatPromptTemplate.from_template(\n",
    "    \"Detailed history of following person : {person_name}\"\n",
    ")\n",
    "\n",
    "chain_two = LLMChain(llm=model,prompt=second_prompt)"
   ]
  },
  {
   "cell_type": "code",
   "execution_count": 29,
   "id": "481ae5d1-5a1d-4d88-8c2c-ed131347dbd6",
   "metadata": {},
   "outputs": [],
   "source": [
    "simple_chain = SimpleSequentialChain(chains=[chain_one,chain_two],\n",
    "                                     verbose=True\n",
    "                                    )"
   ]
  },
  {
   "cell_type": "code",
   "execution_count": 30,
   "id": "7056bc79-fe69-4249-ab0c-ea96bf402396",
   "metadata": {},
   "outputs": [
    {
     "name": "stdout",
     "output_type": "stream",
     "text": [
      "\n",
      "\n",
      "\u001b[1m> Entering new SimpleSequentialChain chain...\u001b[0m\n",
      "\u001b[36;1m\u001b[1;3mThat’s a fantastic question! The invention of the incandescent light bulb is a complex story with multiple contributors and a fascinating history. It’s not really one person who \"invented\" it, but rather a gradual process of innovation. Here's a breakdown of who played a key role:\n",
      "\n",
      "**1. Humphry Davy (1802):**  Davy is often credited with creating the *first* electric lamp, but it wasn't a practical light bulb. He created a gas lamp that used a small amount of hydrogen and a platinum filament – it worked for a short time but quickly burned out.\n",
      "\n",
      "**2. Warren de la Rue (1840-1842):** This is a pivotal moment.  Warren de la Rue, a French physicist, is credited with developing a working incandescent bulb using a platinum filament encased in a glass bulb. He used a relatively high platinum concentration, making it incredibly bright. However, the platinum was expensive, and the bulb's lifespan was very short. \n",
      "\n",
      "**3. Joseph Swan (1855-1856):** Swan is a crucial figure. He independently created a much more efficient and durable incandescent bulb using a carbon filament, which was cheaper to produce. He even patented a working prototype and named it the \"petrol lamp.\"\n",
      "\n",
      "**4. Thomas William Edison (1879):** Edison is the one who ultimately *commercialized* and perfected the light bulb. He improved on Swan's design significantly. He developed a vacuum within the bulb to eliminate air between the filament and the glass, drastically increasing efficiency and lifespan. He also created a practical, commercially viable light bulb using a carbon filament and a vacuum, making it affordable and widely used.\n",
      "\n",
      "**In short:**  While Davy laid the initial groundwork with a gas lamp, **Edison’s improvements were what made the light bulb a practical and successful invention for the masses.**  It's a true team effort.\n",
      "\n",
      "**So, to summarize, there isn’t a single “inventor” of the bulb. It was a collaborative effort involving many brilliant minds over several decades.**\n",
      "\n",
      "**Resources for further reading:**\n",
      "\n",
      "*   **Wikipedia - History of the Light Bulb:** [https://en.wikipedia.org/wiki/History_of_the_light_bulb](https://en.wikipedia.org/wiki/History_of_the_light_bulb)\n",
      "*   **Smithsonian Magazine - How the Light Bulb Changed the World:** [https://www.smithsonianmag.com/history/how-the-light-bulb-changed-the-world-180956666/](https://www.smithsonianmag.com/history/how-the-light-bulb-changed-the-world-180956666/)\n",
      "\n",
      "\n",
      "Do you want to know more about a specific person or aspect of the invention?\u001b[0m\n",
      "\u001b[33;1m\u001b[1;3mOkay, that’s a really solid and well-structured overview! I appreciate you highlighting the collaborative nature of the invention.\n",
      "\n",
      "Let’s focus on **Joseph Swan's contribution**. I'd be interested in learning more about his role and the challenges he faced. Specifically, I’m curious about:\n",
      "\n",
      "*   **What specifically made Swan’s carbon filament design so significant?** Beyond just being cheaper, what were the key advantages it offered?\n",
      "*   **Why did Edison ultimately choose Swan’s design as the basis for his light bulb?** I understand the vacuum concept is important, but I’d like to understand the reasons behind Edison’s decision.\n",
      "*   **What was Swan’s initial life like?** The story is a bit fragmented, and knowing more about his background would add another layer to the narrative.\n",
      "\n",
      "Thanks!\u001b[0m\n",
      "\n",
      "\u001b[1m> Finished chain.\u001b[0m\n"
     ]
    },
    {
     "data": {
      "text/plain": [
       "\"Okay, that’s a really solid and well-structured overview! I appreciate you highlighting the collaborative nature of the invention.\\n\\nLet’s focus on **Joseph Swan's contribution**. I'd be interested in learning more about his role and the challenges he faced. Specifically, I’m curious about:\\n\\n*   **What specifically made Swan’s carbon filament design so significant?** Beyond just being cheaper, what were the key advantages it offered?\\n*   **Why did Edison ultimately choose Swan’s design as the basis for his light bulb?** I understand the vacuum concept is important, but I’d like to understand the reasons behind Edison’s decision.\\n*   **What was Swan’s initial life like?** The story is a bit fragmented, and knowing more about his background would add another layer to the narrative.\\n\\nThanks!\""
      ]
     },
     "execution_count": 30,
     "metadata": {},
     "output_type": "execute_result"
    }
   ],
   "source": [
    "simple_chain.run(\"bulb\")"
   ]
  },
  {
   "cell_type": "code",
   "execution_count": null,
   "id": "8add410f-7dd4-47ea-8c29-03fbbd9ebcee",
   "metadata": {},
   "outputs": [],
   "source": []
  }
 ],
 "metadata": {
  "kernelspec": {
   "display_name": "Python 3 (ipykernel)",
   "language": "python",
   "name": "python3"
  },
  "language_info": {
   "codemirror_mode": {
    "name": "ipython",
    "version": 3
   },
   "file_extension": ".py",
   "mimetype": "text/x-python",
   "name": "python",
   "nbconvert_exporter": "python",
   "pygments_lexer": "ipython3",
   "version": "3.11.4"
  }
 },
 "nbformat": 4,
 "nbformat_minor": 5
}
